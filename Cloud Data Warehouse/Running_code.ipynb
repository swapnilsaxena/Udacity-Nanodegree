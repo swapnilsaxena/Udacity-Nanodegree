{
 "cells": [
  {
   "cell_type": "code",
   "execution_count": 15,
   "metadata": {
    "editable": true
   },
   "outputs": [
    {
     "name": "stdout",
     "output_type": "stream",
     "text": [
      "Connecting to redshift\n",
      "Connected to redshift\n",
      "Dropping existing tables if exists\n",
      "Performing drop: DROP TABLE IF EXISTS staging_events\n",
      "Performing drop: DROP TABLE IF EXISTS staging_songs\n",
      "Performing drop: DROP TABLE IF EXISTS songplay\n",
      "Performing drop: DROP TABLE IF EXISTS users\n",
      "Performing drop: DROP TABLE IF EXISTS songs\n",
      "Performing drop: DROP TABLE IF EXISTS artists\n",
      "Performing drop: DROP TABLE IF EXISTS time\n",
      "Creating tables\n",
      "Performing create: \n",
      "CREATE TABLE IF NOT EXISTS staging_events\n",
      "(\n",
      "event_id        BIGINT IDENTITY(0,1)    NOT NULL,\n",
      "artist          VARCHAR,\n",
      "auth            VARCHAR, \n",
      "firstName       VARCHAR,\n",
      "gender          VARCHAR,   \n",
      "itemInSession   INTEGER,\n",
      "lastName        VARCHAR,\n",
      "length          FLOAT,\n",
      "level           VARCHAR, \n",
      "location        VARCHAR,\n",
      "method          VARCHAR,\n",
      "page            VARCHAR,\n",
      "registration    BIGINT,\n",
      "sessionId       INTEGER,\n",
      "song            VARCHAR,\n",
      "status          INTEGER,\n",
      "ts              TIMESTAMP,\n",
      "userAgent       VARCHAR,\n",
      "userId          INTEGER\n",
      ");\n",
      "\n",
      "Performing create: \n",
      "CREATE TABLE IF NOT EXISTS staging_songs\n",
      "(\n",
      "song_id            VARCHAR,\n",
      "num_songs          INTEGER,\n",
      "title              VARCHAR,\n",
      "artist_name        VARCHAR,\n",
      "artist_latitude    FLOAT,\n",
      "year               INTEGER,\n",
      "duration           FLOAT,\n",
      "artist_id          VARCHAR,\n",
      "artist_longitude   FLOAT,\n",
      "artist_location    VARCHAR\n",
      ");\n",
      "\n",
      "Performing create: \n",
      "CREATE TABLE IF NOT EXISTS songplay\n",
      "(\n",
      "songplay_id          INTEGER IDENTITY(0,1) PRIMARY KEY sortkey,\n",
      "start_time           TIMESTAMP,\n",
      "user_id              INTEGER,\n",
      "level                VARCHAR,\n",
      "song_id              VARCHAR,\n",
      "artist_id            VARCHAR,\n",
      "session_id           INTEGER,\n",
      "location             VARCHAR,\n",
      "user_agent           VARCHAR\n",
      ");\n",
      "\n",
      "Performing create: \n",
      "CREATE TABLE IF NOT EXISTS users\n",
      "(\n",
      "user_id INTEGER PRIMARY KEY distkey,\n",
      "first_name      VARCHAR,\n",
      "last_name       VARCHAR,\n",
      "gender          VARCHAR,\n",
      "level           VARCHAR\n",
      ");\n",
      "\n",
      "Performing create: \n",
      "CREATE TABLE IF NOT EXISTS songs\n",
      "(\n",
      "song_id     VARCHAR PRIMARY KEY,\n",
      "title       VARCHAR,\n",
      "artist_id   VARCHAR distkey,\n",
      "year        INTEGER,\n",
      "duration    FLOAT\n",
      ");\n",
      "\n",
      "Performing create: \n",
      "CREATE TABLE IF NOT EXISTS artists\n",
      "(\n",
      "artist_id          VARCHAR PRIMARY KEY distkey,\n",
      "name               VARCHAR,\n",
      "location           VARCHAR,\n",
      "latitude           FLOAT,\n",
      "longitude          FLOAT\n",
      ");\n",
      "\n",
      "Performing create: \n",
      "CREATE TABLE IF NOT EXISTS time\n",
      "(\n",
      "start_time    TIMESTAMP PRIMARY KEY sortkey distkey,\n",
      "hour          INTEGER,\n",
      "day           INTEGER,\n",
      "week          INTEGER,\n",
      "month         INTEGER,\n",
      "year          INTEGER,\n",
      "weekday       INTEGER\n",
      ");\n",
      "\n",
      "Create table completed\n"
     ]
    }
   ],
   "source": [
    "!python create_tables.py"
   ]
  },
  {
   "cell_type": "code",
   "execution_count": 16,
   "metadata": {
    "editable": true
   },
   "outputs": [
    {
     "name": "stdout",
     "output_type": "stream",
     "text": [
      "Connecting to redshift\n",
      "Connected to redshift\n",
      "Loading staging tables\n",
      "INSERTING from staging\n",
      "ETL Process Completed\n"
     ]
    }
   ],
   "source": [
    "!python etl.py"
   ]
  },
  {
   "cell_type": "code",
   "execution_count": null,
   "metadata": {
    "editable": true
   },
   "outputs": [],
   "source": []
  }
 ],
 "metadata": {
  "kernelspec": {
   "display_name": "Python 3",
   "language": "python",
   "name": "python3"
  },
  "language_info": {
   "codemirror_mode": {
    "name": "ipython",
    "version": 3
   },
   "file_extension": ".py",
   "mimetype": "text/x-python",
   "name": "python",
   "nbconvert_exporter": "python",
   "pygments_lexer": "ipython3",
   "version": "3.6.3"
  }
 },
 "nbformat": 4,
 "nbformat_minor": 4
}
